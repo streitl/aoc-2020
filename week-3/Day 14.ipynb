{
 "cells": [
  {
   "cell_type": "code",
   "execution_count": 1,
   "metadata": {},
   "outputs": [],
   "source": [
    "import re\n",
    "import pandas as pd\n",
    "from itertools import product"
   ]
  },
  {
   "cell_type": "code",
   "execution_count": 2,
   "metadata": {},
   "outputs": [],
   "source": [
    "with open('day-14-input.txt', 'r') as f:\n",
    "    lines = [l.rstrip() for l in f.readlines()]"
   ]
  },
  {
   "cell_type": "code",
   "execution_count": 3,
   "metadata": {},
   "outputs": [],
   "source": [
    "def int2bytes(value):\n",
    "    v = value\n",
    "    l = []\n",
    "    for i in range(36):\n",
    "        l.append(v % 2)\n",
    "        v = v >> 1\n",
    "    return list(reversed(l))\n",
    "\n",
    "def bytes2int(bs):\n",
    "    n = 0\n",
    "    for i, b in enumerate(reversed(bs)):\n",
    "        n += b * (2 ** i)\n",
    "    return n"
   ]
  },
  {
   "cell_type": "markdown",
   "metadata": {},
   "source": [
    "# Part 1"
   ]
  },
  {
   "cell_type": "code",
   "execution_count": 4,
   "metadata": {},
   "outputs": [],
   "source": [
    "def masked(value, mask):\n",
    "    bs = int2bytes(value)\n",
    "    res = mask.copy()\n",
    "    for i, m in enumerate(mask):\n",
    "        if mask[i] is None:\n",
    "            res[i] = bs[i]\n",
    "    return bytes2int(res)"
   ]
  },
  {
   "cell_type": "code",
   "execution_count": 5,
   "metadata": {},
   "outputs": [
    {
     "name": "stdout",
     "output_type": "stream",
     "text": [
      "Part 1: 6386593869035\n"
     ]
    }
   ],
   "source": [
    "mask = [None] * 36\n",
    "mem = {}\n",
    "for inst in lines:\n",
    "    if m := re.match('mask = ([X10]{36})', inst):\n",
    "        mask = [int(b) if b != 'X' else None for b in list(m.group(1))]\n",
    "    elif m := re.match('mem\\[([0-9]+)\\] = ([0-9]+)', inst):\n",
    "        addr = int(m.group(1))\n",
    "        value = int(m.group(2))\n",
    "        mem[addr] = masked(value, mask)\n",
    "\n",
    "n = 0\n",
    "for v in mem.values():\n",
    "    n += v\n",
    "\n",
    "print(f'Part 1: {n}')"
   ]
  },
  {
   "cell_type": "markdown",
   "metadata": {},
   "source": [
    "# Part 2"
   ]
  },
  {
   "cell_type": "code",
   "execution_count": 6,
   "metadata": {},
   "outputs": [],
   "source": [
    "def write_to_memory(mem, addr, mask, value):\n",
    "    res = int2bytes(addr)\n",
    "    for i, b in enumerate(mask):\n",
    "        if b is None:\n",
    "            res[i] = None\n",
    "        elif b == 1:\n",
    "            res[i] = 1\n",
    "    \n",
    "    nones = [i for i, b in enumerate(res) if b is None]\n",
    "    s = pd.Series(res)\n",
    "    for t in product([0, 1], repeat=len(nones)):\n",
    "        s.loc[nones] = t\n",
    "        mem[bytes2int(s.values)] = value\n",
    "    "
   ]
  },
  {
   "cell_type": "code",
   "execution_count": 7,
   "metadata": {},
   "outputs": [
    {
     "name": "stdout",
     "output_type": "stream",
     "text": [
      "Part 2: 4288986482164\n"
     ]
    }
   ],
   "source": [
    "mask = [None] * 36\n",
    "mem = {}\n",
    "\n",
    "for inst in lines:\n",
    "    if m := re.match('mask = ([X10]{36})', inst):\n",
    "        mask = [int(b) if b != 'X' else None for b in list(m.group(1))]\n",
    "    elif m := re.match('mem\\[([0-9]+)\\] = ([0-9]+)', inst):\n",
    "        addr = int(m.group(1))\n",
    "        value = int(m.group(2))\n",
    "        write_to_memory(mem, addr, mask, value)\n",
    "\n",
    "n = 0\n",
    "for v in mem.values():\n",
    "    n += v\n",
    "\n",
    "print(f'Part 2: {n}')"
   ]
  },
  {
   "cell_type": "code",
   "execution_count": null,
   "metadata": {},
   "outputs": [],
   "source": []
  }
 ],
 "metadata": {
  "kernelspec": {
   "display_name": "Python 3",
   "language": "python",
   "name": "python3"
  },
  "language_info": {
   "codemirror_mode": {
    "name": "ipython",
    "version": 3
   },
   "file_extension": ".py",
   "mimetype": "text/x-python",
   "name": "python",
   "nbconvert_exporter": "python",
   "pygments_lexer": "ipython3",
   "version": "3.8.5"
  }
 },
 "nbformat": 4,
 "nbformat_minor": 4
}
