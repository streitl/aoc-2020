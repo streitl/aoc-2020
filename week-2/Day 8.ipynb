{
 "cells": [
  {
   "cell_type": "code",
   "execution_count": 1,
   "metadata": {},
   "outputs": [],
   "source": [
    "class Instruction():\n",
    "    \n",
    "    def __init__(self, line):\n",
    "        self.op, self.arg = line.split()\n",
    "        self.arg = int(self.arg)\n",
    "    \n",
    "    def flipped(self):\n",
    "        if self.op == 'jmp':\n",
    "            return Instruction(f'nop {self.arg}')\n",
    "        elif self.op == 'nop':\n",
    "            return Instruction(f'jmp {self.arg}')\n",
    "        else:\n",
    "            return Instruction(f'{self.op} {self.arg}')\n",
    "\n",
    "    def __str__(self):\n",
    "        return f'{self.op} {self.arg}'"
   ]
  },
  {
   "cell_type": "code",
   "execution_count": 2,
   "metadata": {},
   "outputs": [],
   "source": [
    "with open('day-8-input.txt', 'r') as f:\n",
    "    lines = [line.rstrip() for line in f.readlines()]\n",
    "    instructions = [Instruction(line) for line in lines]"
   ]
  },
  {
   "cell_type": "code",
   "execution_count": 3,
   "metadata": {},
   "outputs": [],
   "source": [
    "class Console():\n",
    "    \n",
    "    def __init__(self, instructions):\n",
    "        self.acc = 0\n",
    "        self.pc = 0\n",
    "        self.instructions = instructions\n",
    "        self.log = set()\n",
    "        \n",
    "    def execute(self):\n",
    "        # Retrieve instruction\n",
    "        instr = self.instructions[self.pc]\n",
    "        \n",
    "        # Make sure we haven't been in this state\n",
    "        if self.pc in self.log:\n",
    "            # Infinite loop incoming\n",
    "            return 'loop'\n",
    "        else:\n",
    "            self.log.add(self.pc)\n",
    "        \n",
    "        # Execute instruction\n",
    "        if instr.op == 'nop':\n",
    "            self.pc += 1\n",
    "        elif instr.op == 'acc':\n",
    "            self.acc += instr.arg\n",
    "            self.pc += 1\n",
    "        elif instr.op == 'jmp':\n",
    "            self.pc += instr.arg\n",
    "        \n",
    "        if self.pc == len(self.instructions):\n",
    "            return 'done'\n",
    "        else:\n",
    "            return 'running'\n",
    "    \n",
    "    def run(self):\n",
    "        state = 'running'\n",
    "        while state == 'running':\n",
    "            state = self.execute()\n",
    "        return state\n",
    "    \n",
    "    def show_state(self):\n",
    "        print(f'[{self.pc}] {self.instructions[self.pc]} {self.log}')"
   ]
  },
  {
   "cell_type": "markdown",
   "metadata": {},
   "source": [
    "# Part 1"
   ]
  },
  {
   "cell_type": "code",
   "execution_count": 4,
   "metadata": {},
   "outputs": [
    {
     "data": {
      "text/plain": [
       "'loop'"
      ]
     },
     "execution_count": 4,
     "metadata": {},
     "output_type": "execute_result"
    }
   ],
   "source": [
    "console = Console(instructions)\n",
    "console.run()"
   ]
  },
  {
   "cell_type": "code",
   "execution_count": 5,
   "metadata": {},
   "outputs": [
    {
     "name": "stdout",
     "output_type": "stream",
     "text": [
      "Part 1: 1528\n"
     ]
    }
   ],
   "source": [
    "print(f'Part 1: {console.acc}')"
   ]
  },
  {
   "cell_type": "markdown",
   "metadata": {},
   "source": [
    "# Part 2"
   ]
  },
  {
   "cell_type": "code",
   "execution_count": 6,
   "metadata": {},
   "outputs": [
    {
     "name": "stdout",
     "output_type": "stream",
     "text": [
      "Part 2: 640\n",
      "363: jmp -338 -> nop -338\n"
     ]
    }
   ],
   "source": [
    "for i, instr in enumerate(instructions):\n",
    "    new_instructions = instructions.copy()\n",
    "    new_instructions[i] = instructions[i].flipped()\n",
    "    \n",
    "    console = Console(new_instructions)\n",
    "    state = console.run()\n",
    "    if state == 'done':\n",
    "        print(f'Part 2: {console.acc}\\n{i}: {instructions[i]} -> {new_instructions[i]}')\n",
    "        break"
   ]
  },
  {
   "cell_type": "code",
   "execution_count": null,
   "metadata": {},
   "outputs": [],
   "source": []
  }
 ],
 "metadata": {
  "kernelspec": {
   "display_name": "Python 3",
   "language": "python",
   "name": "python3"
  },
  "language_info": {
   "codemirror_mode": {
    "name": "ipython",
    "version": 3
   },
   "file_extension": ".py",
   "mimetype": "text/x-python",
   "name": "python",
   "nbconvert_exporter": "python",
   "pygments_lexer": "ipython3",
   "version": "3.8.5"
  }
 },
 "nbformat": 4,
 "nbformat_minor": 4
}
