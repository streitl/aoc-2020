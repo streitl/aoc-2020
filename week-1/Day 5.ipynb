{
 "cells": [
  {
   "cell_type": "code",
   "execution_count": 35,
   "metadata": {},
   "outputs": [],
   "source": [
    "import pandas as pd"
   ]
  },
  {
   "cell_type": "code",
   "execution_count": 36,
   "metadata": {},
   "outputs": [],
   "source": [
    "class Seat():\n",
    "    N_ROWS = 128\n",
    "    N_COLS = 8\n",
    "    \n",
    "    @staticmethod\n",
    "    def search_row(s):\n",
    "        l = 0\n",
    "        r = Seat.N_ROWS - 1\n",
    "        for e in s:\n",
    "            if e == 'F':\n",
    "                r = (l + r) // 2\n",
    "            elif e == 'B':\n",
    "                l = (l + r) // 2 + 1\n",
    "        assert l == r, f'{l} was different from {r}'\n",
    "        return l\n",
    "    \n",
    "    @staticmethod\n",
    "    def search_col(s):\n",
    "        l = 0\n",
    "        r = Seat.N_COLS - 1\n",
    "        for e in s:\n",
    "            if e == 'L':\n",
    "                r = (l + r) // 2\n",
    "            elif e == 'R':\n",
    "                l = (l + r) // 2 + 1\n",
    "        assert l == r, f'{l} was different from {r}'\n",
    "        return l\n",
    "        \n",
    "    def __init__(self, line):\n",
    "        self.row = Seat.search_row(line[:7])\n",
    "        self.col = Seat.search_col(line[7:])\n",
    "    \n",
    "    def seat_id(self):\n",
    "        return self.row * 8 + self.col\n",
    "    \n",
    "    def __str__(self):\n",
    "        return f'Seat row {self.row}, column {self.col}, id {self.seat_id()}'"
   ]
  },
  {
   "cell_type": "code",
   "execution_count": 37,
   "metadata": {},
   "outputs": [],
   "source": [
    "with open('day-5-input.txt', 'r') as f:\n",
    "    lines = [l.rstrip() for l in f.readlines()]\n",
    "\n",
    "seats = [Seat(line) for line in lines]"
   ]
  },
  {
   "cell_type": "markdown",
   "metadata": {},
   "source": [
    "# Testing"
   ]
  },
  {
   "cell_type": "code",
   "execution_count": 38,
   "metadata": {},
   "outputs": [
    {
     "name": "stdout",
     "output_type": "stream",
     "text": [
      "Seat row 44, column 5, id 357\n"
     ]
    }
   ],
   "source": [
    "print(Seat('FBFBBFFRLR'))"
   ]
  },
  {
   "cell_type": "code",
   "execution_count": 39,
   "metadata": {},
   "outputs": [
    {
     "name": "stdout",
     "output_type": "stream",
     "text": [
      "Seat row 70, column 7, id 567\n"
     ]
    }
   ],
   "source": [
    "print(Seat('BFFFBBFRRR'))"
   ]
  },
  {
   "cell_type": "code",
   "execution_count": 40,
   "metadata": {},
   "outputs": [
    {
     "name": "stdout",
     "output_type": "stream",
     "text": [
      "Seat row 14, column 7, id 119\n"
     ]
    }
   ],
   "source": [
    "print(Seat('FFFBBBFRRR'))"
   ]
  },
  {
   "cell_type": "code",
   "execution_count": 41,
   "metadata": {},
   "outputs": [
    {
     "name": "stdout",
     "output_type": "stream",
     "text": [
      "Seat row 102, column 4, id 820\n"
     ]
    }
   ],
   "source": [
    "print(Seat('BBFFBBFRLL'))"
   ]
  },
  {
   "cell_type": "markdown",
   "metadata": {},
   "source": [
    "# Part 1"
   ]
  },
  {
   "cell_type": "code",
   "execution_count": 42,
   "metadata": {},
   "outputs": [
    {
     "name": "stdout",
     "output_type": "stream",
     "text": [
      "Part 1: 930\n"
     ]
    }
   ],
   "source": [
    "ids = pd.Series([seat.seat_id() for seat in seats])\n",
    "print(f'Part 1: {ids.max()}')"
   ]
  },
  {
   "cell_type": "markdown",
   "metadata": {},
   "source": [
    "# Part 2"
   ]
  },
  {
   "cell_type": "code",
   "execution_count": 44,
   "metadata": {},
   "outputs": [
    {
     "data": {
      "text/plain": [
       "54"
      ]
     },
     "execution_count": 44,
     "metadata": {},
     "output_type": "execute_result"
    }
   ],
   "source": [
    "ids.min()"
   ]
  },
  {
   "cell_type": "code",
   "execution_count": 45,
   "metadata": {},
   "outputs": [
    {
     "data": {
      "text/plain": [
       "{930}"
      ]
     },
     "execution_count": 45,
     "metadata": {},
     "output_type": "execute_result"
    }
   ],
   "source": [
    "set(ids.values) - set(range(ids.min(), ids.max()))"
   ]
  },
  {
   "cell_type": "code",
   "execution_count": null,
   "metadata": {},
   "outputs": [],
   "source": []
  }
 ],
 "metadata": {
  "kernelspec": {
   "display_name": "Python 3",
   "language": "python",
   "name": "python3"
  },
  "language_info": {
   "codemirror_mode": {
    "name": "ipython",
    "version": 3
   },
   "file_extension": ".py",
   "mimetype": "text/x-python",
   "name": "python",
   "nbconvert_exporter": "python",
   "pygments_lexer": "ipython3",
   "version": "3.8.5"
  }
 },
 "nbformat": 4,
 "nbformat_minor": 4
}
