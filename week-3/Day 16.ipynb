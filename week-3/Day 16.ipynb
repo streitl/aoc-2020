{
 "cells": [
  {
   "cell_type": "code",
   "execution_count": 1,
   "metadata": {},
   "outputs": [],
   "source": [
    "import pandas as pd\n",
    "\n",
    "import networkx as nx\n",
    "from networkx.algorithms import bipartite"
   ]
  },
  {
   "cell_type": "code",
   "execution_count": 2,
   "metadata": {},
   "outputs": [],
   "source": [
    "with open('day-16-input.txt', 'r') as f:\n",
    "    rules, my, others = f.read().split('\\n\\n')\n",
    "    rules = dict([l.split(': ') for l in rules.split('\\n')])\n",
    "    rules = {k:[[int(a) for a in r.split('-')] for r in v.split(' or ')] for k, v in rules.items()}\n",
    "    rules = {k:tuple([tuple(a) for a in v]) for k, v in rules.items()}\n",
    "    my = [int(a) for a in my.split('\\n')[1].split(',')]\n",
    "    others = [[int(a) for a in l.split(',')] for l in others.split('\\n')[1:]]"
   ]
  },
  {
   "cell_type": "markdown",
   "metadata": {},
   "source": [
    "# Part 1"
   ]
  },
  {
   "cell_type": "code",
   "execution_count": 3,
   "metadata": {},
   "outputs": [
    {
     "name": "stdout",
     "output_type": "stream",
     "text": [
      "Part 1: 23115\n"
     ]
    }
   ],
   "source": [
    "flat = [f for l in others for f in l]\n",
    "\n",
    "n = 0\n",
    "for f in flat:\n",
    "    passes = False\n",
    "    for (l1, r1), (l2, r2) in rules.values():\n",
    "        if l1 <= f <= r1 or l2 <= f <= r2:\n",
    "            passes = True\n",
    "            break\n",
    "    n += f * int(not passes)\n",
    "\n",
    "print(f'Part 1: {n}')"
   ]
  },
  {
   "cell_type": "markdown",
   "metadata": {},
   "source": [
    "# Part 2"
   ]
  },
  {
   "cell_type": "code",
   "execution_count": 4,
   "metadata": {},
   "outputs": [],
   "source": [
    "valid = []\n",
    "for l in [my] + others:\n",
    "    passes = True\n",
    "    for e in l:\n",
    "        a = False\n",
    "        for (l1, r1), (l2, r2) in rules.values():\n",
    "            if l1 <= e <= r1 or l2 <= e <= r2:\n",
    "                a = True\n",
    "                break\n",
    "        if not a:\n",
    "            passes = False\n",
    "    if passes:\n",
    "        valid.append(l)\n",
    "\n",
    "valid = pd.DataFrame(valid)\n",
    "unique = [set(valid[col].unique()) for col in valid.columns]"
   ]
  },
  {
   "cell_type": "code",
   "execution_count": 5,
   "metadata": {},
   "outputs": [],
   "source": [
    "possible = {}\n",
    "for r, ((l1, r1), (l2, r2)) in rules.items():\n",
    "    p = []\n",
    "    for i, l in enumerate(unique):\n",
    "        works = True\n",
    "        for e in l:\n",
    "            if not (l1 <= e <= r1 or l2 <= e <= r2):\n",
    "                works = False\n",
    "        if works:\n",
    "            p.append(i)\n",
    "    possible[r] = p"
   ]
  },
  {
   "cell_type": "code",
   "execution_count": 6,
   "metadata": {},
   "outputs": [],
   "source": [
    "G = nx.Graph()\n",
    "G.add_nodes_from(possible.keys(), bipartite=0)\n",
    "G.add_nodes_from(range(len(my)), bipartite=1)\n",
    "\n",
    "for name, l in possible.items():\n",
    "    for col in l:\n",
    "        G.add_edge(name, col)\n",
    "\n",
    "matches = bipartite.matching.hopcroft_karp_matching(G, possible.keys())"
   ]
  },
  {
   "cell_type": "code",
   "execution_count": 7,
   "metadata": {},
   "outputs": [],
   "source": [
    "order = [None] * len(my)\n",
    "for n, i in matches.items():\n",
    "    try:\n",
    "        order[i] = n\n",
    "    except:\n",
    "        pass"
   ]
  },
  {
   "cell_type": "code",
   "execution_count": 8,
   "metadata": {},
   "outputs": [
    {
     "name": "stdout",
     "output_type": "stream",
     "text": [
      "Part 2: 239727793813\n"
     ]
    }
   ],
   "source": [
    "res = 1\n",
    "for i, n in enumerate(order):\n",
    "    if n.startswith('departure'):\n",
    "        res *= my[i]\n",
    "print(f'Part 2: {res}')"
   ]
  },
  {
   "cell_type": "code",
   "execution_count": null,
   "metadata": {},
   "outputs": [],
   "source": []
  }
 ],
 "metadata": {
  "kernelspec": {
   "display_name": "Python 3",
   "language": "python",
   "name": "python3"
  },
  "language_info": {
   "codemirror_mode": {
    "name": "ipython",
    "version": 3
   },
   "file_extension": ".py",
   "mimetype": "text/x-python",
   "name": "python",
   "nbconvert_exporter": "python",
   "pygments_lexer": "ipython3",
   "version": "3.8.5"
  }
 },
 "nbformat": 4,
 "nbformat_minor": 4
}
