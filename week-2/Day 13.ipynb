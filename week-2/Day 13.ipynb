{
 "cells": [
  {
   "cell_type": "code",
   "execution_count": 1,
   "metadata": {},
   "outputs": [],
   "source": [
    "import pandas as pd\n",
    "import numpy as np"
   ]
  },
  {
   "cell_type": "code",
   "execution_count": 2,
   "metadata": {},
   "outputs": [],
   "source": [
    "with open('day-13-input.txt', 'r') as f:\n",
    "    lines = [l.rstrip() for l in f.readlines()]"
   ]
  },
  {
   "cell_type": "markdown",
   "metadata": {},
   "source": [
    "# Part 1"
   ]
  },
  {
   "cell_type": "code",
   "execution_count": 3,
   "metadata": {},
   "outputs": [
    {
     "name": "stdout",
     "output_type": "stream",
     "text": [
      "Part 1: 3246\n"
     ]
    }
   ],
   "source": [
    "t = int(lines[0])\n",
    "buses = [int(b) for b in lines[1].split(',') if b != 'x']\n",
    "\n",
    "res = pd.Series(dtype=int)\n",
    "\n",
    "for b in buses:\n",
    "    res.loc[b] = b - (t % b)\n",
    "    \n",
    "print(f'Part 1: {res.min() * res.idxmin()}')"
   ]
  },
  {
   "cell_type": "markdown",
   "metadata": {},
   "source": [
    "# Part 2\n",
    "\n",
    "Thanks [wikipedia](https://en.wikipedia.org/wiki/Chinese_remainder_theorem)!"
   ]
  },
  {
   "cell_type": "code",
   "execution_count": 4,
   "metadata": {},
   "outputs": [
    {
     "name": "stdout",
     "output_type": "stream",
     "text": [
      "Part 2: 1010182346291467\n"
     ]
    }
   ],
   "source": [
    "constraints = [(t, int(b)) for t, b in list(enumerate(lines[1].split(','))) if b != 'x']\n",
    "constraints.sort(key=lambda x: -x[1])\n",
    "\n",
    "t = 0\n",
    "dt = 1\n",
    "\n",
    "for (ai, ni) in constraints:\n",
    "    while (t + ai) % ni != 0:\n",
    "        t += dt\n",
    "    dt *= ni\n",
    "\n",
    "print(f'Part 2: {t}')"
   ]
  },
  {
   "cell_type": "code",
   "execution_count": null,
   "metadata": {},
   "outputs": [],
   "source": []
  }
 ],
 "metadata": {
  "kernelspec": {
   "display_name": "Python 3",
   "language": "python",
   "name": "python3"
  },
  "language_info": {
   "codemirror_mode": {
    "name": "ipython",
    "version": 3
   },
   "file_extension": ".py",
   "mimetype": "text/x-python",
   "name": "python",
   "nbconvert_exporter": "python",
   "pygments_lexer": "ipython3",
   "version": "3.8.5"
  }
 },
 "nbformat": 4,
 "nbformat_minor": 4
}
