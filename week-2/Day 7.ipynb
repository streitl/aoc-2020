{
 "cells": [
  {
   "cell_type": "code",
   "execution_count": 1,
   "metadata": {},
   "outputs": [],
   "source": [
    "import networkx as nx"
   ]
  },
  {
   "cell_type": "code",
   "execution_count": 2,
   "metadata": {},
   "outputs": [],
   "source": [
    "class Rule():\n",
    "    \n",
    "    def __init__(self, line):\n",
    "        \n",
    "        left, right = line[:-1].split(' bags contain ')\n",
    "        self.src = left\n",
    "        if right == 'no other bags':\n",
    "            self.dests = []\n",
    "            self.weights = []\n",
    "        else:\n",
    "            l = right.split(', ')\n",
    "            self.dests = list(map(lambda x: ' '.join(x.split()[1:-1]), l))\n",
    "            self.weights = list(map(lambda x: int(x.split()[0]), l))\n",
    "    \n",
    "    def __str__(self):\n",
    "        return f'{self.src} -> {list(zip(self.weights, self.dests))}'"
   ]
  },
  {
   "cell_type": "code",
   "execution_count": 3,
   "metadata": {},
   "outputs": [],
   "source": [
    "with open('day-7-input.txt', 'r') as f:\n",
    "    rules = [Rule(line.rstrip()) for line in f.readlines()]"
   ]
  },
  {
   "cell_type": "code",
   "execution_count": 4,
   "metadata": {},
   "outputs": [],
   "source": [
    "g = nx.DiGraph()\n",
    "\n",
    "for rule in rules:\n",
    "    for dest, weight in zip(rule.dests, rule.weights):\n",
    "        g.add_edge(rule.src, dest, weight=weight)"
   ]
  },
  {
   "cell_type": "markdown",
   "metadata": {},
   "source": [
    "# Part 1"
   ]
  },
  {
   "cell_type": "code",
   "execution_count": 5,
   "metadata": {},
   "outputs": [
    {
     "name": "stdout",
     "output_type": "stream",
     "text": [
      "Part 1: 155\n"
     ]
    }
   ],
   "source": [
    "possible = set()\n",
    "candidates = set(g.predecessors('shiny gold'))\n",
    "while candidates:\n",
    "    predecessors = [pred for candidate in candidates for pred in g.predecessors(candidate)]\n",
    "    possible.update(candidates)\n",
    "    candidates = predecessors\n",
    "print(f'Part 1: {len(possible)}')"
   ]
  },
  {
   "cell_type": "markdown",
   "metadata": {},
   "source": [
    "# Part 2"
   ]
  },
  {
   "cell_type": "code",
   "execution_count": 6,
   "metadata": {},
   "outputs": [
    {
     "name": "stdout",
     "output_type": "stream",
     "text": [
      "Part 2: 54803\n"
     ]
    }
   ],
   "source": [
    "def number_of_bags_inside(bag):\n",
    "    n_bags = 0\n",
    "    for _, succ in g.out_edges(bag):\n",
    "        w = g.get_edge_data(bag, succ)['weight']\n",
    "        n_bags += w * (1 + number_of_bags_inside(succ))\n",
    "    \n",
    "    return n_bags\n",
    "\n",
    "print(f\"Part 2: {number_of_bags_inside('shiny gold')}\")"
   ]
  },
  {
   "cell_type": "code",
   "execution_count": null,
   "metadata": {},
   "outputs": [],
   "source": []
  }
 ],
 "metadata": {
  "kernelspec": {
   "display_name": "Python 3",
   "language": "python",
   "name": "python3"
  },
  "language_info": {
   "codemirror_mode": {
    "name": "ipython",
    "version": 3
   },
   "file_extension": ".py",
   "mimetype": "text/x-python",
   "name": "python",
   "nbconvert_exporter": "python",
   "pygments_lexer": "ipython3",
   "version": "3.8.5"
  }
 },
 "nbformat": 4,
 "nbformat_minor": 4
}
