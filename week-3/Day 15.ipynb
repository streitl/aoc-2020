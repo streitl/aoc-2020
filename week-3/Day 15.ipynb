{
 "cells": [
  {
   "cell_type": "code",
   "execution_count": 1,
   "metadata": {},
   "outputs": [],
   "source": [
    "with open('day-15-input.txt', 'r') as f:\n",
    "    numbers = [int(n) for n in f.readlines()[0].rstrip().split(',')]"
   ]
  },
  {
   "cell_type": "code",
   "execution_count": 2,
   "metadata": {},
   "outputs": [],
   "source": [
    "def append_mem(mem, n, i):\n",
    "    if n in mem:\n",
    "        mem[n].append(i)\n",
    "    else:\n",
    "        mem[n] = [i]"
   ]
  },
  {
   "cell_type": "markdown",
   "metadata": {},
   "source": [
    "# Part 1"
   ]
  },
  {
   "cell_type": "code",
   "execution_count": 3,
   "metadata": {},
   "outputs": [
    {
     "name": "stdout",
     "output_type": "stream",
     "text": [
      "Part 1: 232\n"
     ]
    }
   ],
   "source": [
    "mem = {}\n",
    "i = 0\n",
    "prev = None\n",
    "for n in numbers:\n",
    "    append_mem(mem, n, i)\n",
    "    i += 1\n",
    "    prev = n\n",
    "\n",
    "while i != 2020:\n",
    "    if len(mem[prev]) == 1: # first time\n",
    "        n = 0\n",
    "    else:\n",
    "        n = mem[prev][-1] - mem[prev][-2]\n",
    "    append_mem(mem, n, i)\n",
    "    prev = n\n",
    "    i += 1\n",
    "\n",
    "print(f'Part 1: {prev}')"
   ]
  },
  {
   "cell_type": "markdown",
   "metadata": {},
   "source": [
    "# Part 2"
   ]
  },
  {
   "cell_type": "code",
   "execution_count": 4,
   "metadata": {},
   "outputs": [
    {
     "name": "stdout",
     "output_type": "stream",
     "text": [
      "Part 1: 18929178\n"
     ]
    }
   ],
   "source": [
    "while i != 30000000:\n",
    "    if len(mem[prev]) == 1: # first time\n",
    "        n = 0\n",
    "    else:\n",
    "        n = mem[prev][-1] - mem[prev][-2]\n",
    "    append_mem(mem, n, i)\n",
    "    prev = n\n",
    "    i += 1\n",
    "\n",
    "print(f'Part 1: {prev}')"
   ]
  },
  {
   "cell_type": "code",
   "execution_count": null,
   "metadata": {},
   "outputs": [],
   "source": []
  }
 ],
 "metadata": {
  "kernelspec": {
   "display_name": "Python 3",
   "language": "python",
   "name": "python3"
  },
  "language_info": {
   "codemirror_mode": {
    "name": "ipython",
    "version": 3
   },
   "file_extension": ".py",
   "mimetype": "text/x-python",
   "name": "python",
   "nbconvert_exporter": "python",
   "pygments_lexer": "ipython3",
   "version": "3.8.5"
  }
 },
 "nbformat": 4,
 "nbformat_minor": 4
}
