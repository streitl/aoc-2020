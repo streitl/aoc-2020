{
 "cells": [
  {
   "cell_type": "code",
   "execution_count": 1,
   "metadata": {},
   "outputs": [],
   "source": [
    "import re"
   ]
  },
  {
   "cell_type": "code",
   "execution_count": 2,
   "metadata": {},
   "outputs": [],
   "source": [
    "def read_passports(text):\n",
    "    entries = text.split('\\n\\n')\n",
    "    passports = [dict([field.split(':') for field in e.split()]) for e in entries]\n",
    "    return passports"
   ]
  },
  {
   "cell_type": "code",
   "execution_count": 3,
   "metadata": {},
   "outputs": [],
   "source": [
    "def count_valid(passports, valid_func):\n",
    "    n_valid = 0\n",
    "    for p in passports:\n",
    "        if valid_func(p):\n",
    "            n_valid += 1\n",
    "            \n",
    "    return n_valid"
   ]
  },
  {
   "cell_type": "code",
   "execution_count": 4,
   "metadata": {},
   "outputs": [],
   "source": [
    "required_fields = {'byr', 'iyr', 'eyr', 'hgt', 'hcl', 'ecl', 'pid'}\n",
    "optional_fields = {'cid'}"
   ]
  },
  {
   "cell_type": "code",
   "execution_count": 5,
   "metadata": {},
   "outputs": [],
   "source": [
    "with open('day-4-input.txt', 'r') as f:\n",
    "    passports = read_passports(f.read())"
   ]
  },
  {
   "cell_type": "markdown",
   "metadata": {},
   "source": [
    "# Part 1"
   ]
  },
  {
   "cell_type": "code",
   "execution_count": 6,
   "metadata": {},
   "outputs": [],
   "source": [
    "def valid_one(p):\n",
    "    missing_fields = required_fields.difference(p)\n",
    "    return not missing_fields"
   ]
  },
  {
   "cell_type": "code",
   "execution_count": 7,
   "metadata": {},
   "outputs": [
    {
     "name": "stdout",
     "output_type": "stream",
     "text": [
      "Part 1: 239\n"
     ]
    }
   ],
   "source": [
    "print(f'Part 1: {count_valid(passports, valid_one)}')"
   ]
  },
  {
   "cell_type": "markdown",
   "metadata": {},
   "source": [
    "# Part 2"
   ]
  },
  {
   "cell_type": "code",
   "execution_count": 14,
   "metadata": {},
   "outputs": [],
   "source": [
    "hgt_regex = '^1(?:[5-8][0-9]|9[0-3])cm|(?:59|6[0-9]|7[0-6])in$'\n",
    "hcl_regex = '^#[0-9a-f]{6}$'\n",
    "ecl_regex = '^amb|blu|brn|gry|grn|hzl|oth$'\n",
    "pid_regex = '^[0-9]{9}$'\n",
    "\n",
    "def valid_two(p):\n",
    "    missing_fields = required_fields.difference(p)\n",
    "    return not missing_fields \\\n",
    "        and len(p['byr']) == 4 and 1920 <= int(p['byr']) <= 2002 \\\n",
    "        and len(p['iyr']) == 4 and 2010 <= int(p['iyr']) <= 2020 \\\n",
    "        and len(p['eyr']) == 4 and 2020 <= int(p['eyr']) <= 2030 \\\n",
    "        and re.match(hgt_regex, p['hgt']) \\\n",
    "        and re.match(hcl_regex, p['hcl']) \\\n",
    "        and re.match(ecl_regex, p['ecl']) \\\n",
    "        and re.match(pid_regex, p['pid'])"
   ]
  },
  {
   "cell_type": "code",
   "execution_count": 15,
   "metadata": {},
   "outputs": [
    {
     "name": "stdout",
     "output_type": "stream",
     "text": [
      "Part 2: 188\n"
     ]
    }
   ],
   "source": [
    "print(f'Part 2: {count_valid(passports, valid_two)}')"
   ]
  },
  {
   "cell_type": "code",
   "execution_count": 12,
   "metadata": {},
   "outputs": [
    {
     "data": {
      "text/plain": [
       "0"
      ]
     },
     "execution_count": 12,
     "metadata": {},
     "output_type": "execute_result"
    }
   ],
   "source": [
    "invalid_passports = read_passports(\"\"\"eyr:1972 cid:100\n",
    "hcl:#18171d ecl:amb hgt:170 pid:186cm iyr:2018 byr:1926\n",
    "\n",
    "iyr:2019\n",
    "hcl:#602927 eyr:1967 hgt:170cm\n",
    "ecl:grn pid:012533040 byr:1946\n",
    "\n",
    "hcl:dab227 iyr:2012\n",
    "ecl:brn hgt:182cm pid:021572410 eyr:2020 byr:1992 cid:277\n",
    "\n",
    "hgt:59cm ecl:zzz\n",
    "eyr:2038 hcl:74454a iyr:2023\n",
    "pid:3556412378 byr:2007\"\"\")\n",
    "count_valid(invalid_passports, valid_two)"
   ]
  },
  {
   "cell_type": "code",
   "execution_count": 13,
   "metadata": {},
   "outputs": [
    {
     "data": {
      "text/plain": [
       "4"
      ]
     },
     "execution_count": 13,
     "metadata": {},
     "output_type": "execute_result"
    }
   ],
   "source": [
    "valid_passports = read_passports(\"\"\"pid:087499704 hgt:74in ecl:grn iyr:2012 eyr:2030 byr:1980\n",
    "hcl:#623a2f\n",
    "\n",
    "eyr:2029 ecl:blu cid:129 byr:1989\n",
    "iyr:2014 pid:896056539 hcl:#a97842 hgt:165cm\n",
    "\n",
    "hcl:#888785\n",
    "hgt:164cm byr:2001 iyr:2015 cid:88\n",
    "pid:545766238 ecl:hzl\n",
    "eyr:2022\n",
    "\n",
    "iyr:2010 hgt:158cm hcl:#b6652a ecl:blu byr:1944 eyr:2021 pid:093154719\"\"\")\n",
    "count_valid(valid_passports, valid_two)"
   ]
  },
  {
   "cell_type": "code",
   "execution_count": null,
   "metadata": {},
   "outputs": [],
   "source": []
  }
 ],
 "metadata": {
  "kernelspec": {
   "display_name": "Python 3",
   "language": "python",
   "name": "python3"
  },
  "language_info": {
   "codemirror_mode": {
    "name": "ipython",
    "version": 3
   },
   "file_extension": ".py",
   "mimetype": "text/x-python",
   "name": "python",
   "nbconvert_exporter": "python",
   "pygments_lexer": "ipython3",
   "version": "3.8.5"
  }
 },
 "nbformat": 4,
 "nbformat_minor": 4
}
