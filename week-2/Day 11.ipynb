{
 "cells": [
  {
   "cell_type": "code",
   "execution_count": 1,
   "metadata": {},
   "outputs": [],
   "source": [
    "with open('day-11-input.txt', 'r') as f:\n",
    "    grid = [list(l.rstrip()) for l in f.readlines()]"
   ]
  },
  {
   "cell_type": "code",
   "execution_count": 2,
   "metadata": {},
   "outputs": [],
   "source": [
    "n_rows = len(grid)\n",
    "n_cols = len(grid[0])"
   ]
  },
  {
   "cell_type": "markdown",
   "metadata": {},
   "source": [
    "# Part 1"
   ]
  },
  {
   "cell_type": "code",
   "execution_count": 3,
   "metadata": {},
   "outputs": [],
   "source": [
    "def nb_seated_neighbors(i, j, grid):\n",
    "    n = 0\n",
    "    if i != 0:\n",
    "        if j != 0:\n",
    "            n += grid[i-1][j-1] == '#'\n",
    "        if j != n_cols - 1:\n",
    "            n += grid[i-1][j+1] == '#'\n",
    "        n += grid[i-1][j] == '#'\n",
    "        \n",
    "    if i != n_rows - 1:\n",
    "        if j != 0:\n",
    "            n += grid[i+1][j-1] == '#'\n",
    "        if j != n_cols - 1:\n",
    "            n += grid[i+1][j+1] == '#'\n",
    "        n += grid[i+1][j] == '#'\n",
    "    \n",
    "    if j != 0:\n",
    "        n += grid[i][j-1] == '#'\n",
    "    if j != n_cols - 1:\n",
    "        n += grid[i][j+1] == '#'\n",
    "    \n",
    "    return n"
   ]
  },
  {
   "cell_type": "code",
   "execution_count": 4,
   "metadata": {
    "scrolled": true
   },
   "outputs": [
    {
     "name": "stdout",
     "output_type": "stream",
     "text": [
      "Part 1: 2263\n"
     ]
    }
   ],
   "source": [
    "current = [l.copy() for l in grid]\n",
    "previous = None\n",
    "while current != previous:\n",
    "    previous = [l.copy() for l in current]\n",
    "    for i in range(n_rows):\n",
    "        for j in range(n_cols):\n",
    "            nbs = nb_seated_neighbors(i, j, previous)\n",
    "            if nbs >= 4 and previous[i][j] == '#':\n",
    "                current[i][j] = 'L'\n",
    "            elif nbs == 0 and previous[i][j] == 'L':\n",
    "                current[i][j] = '#'\n",
    "\n",
    "n = 0\n",
    "for i in range(n_rows):\n",
    "    for j in range(n_cols):\n",
    "        n += current[i][j] == '#'\n",
    "            \n",
    "print(f'Part 1: {n}')"
   ]
  },
  {
   "cell_type": "markdown",
   "metadata": {},
   "source": [
    "# Part 2"
   ]
  },
  {
   "cell_type": "code",
   "execution_count": 5,
   "metadata": {},
   "outputs": [],
   "source": [
    "def seat_in_direction(i, j, dx, dy, grid):\n",
    "    x = i + dx\n",
    "    y = j + dy\n",
    "    while 0 <= x < n_rows and 0 <= y < n_cols:\n",
    "        if grid[x][y] == '#':\n",
    "            return 1\n",
    "        if grid[x][y] == 'L':\n",
    "            return 0\n",
    "        x += dx\n",
    "        y += dy        \n",
    "    return 0\n",
    "\n",
    "def nb_visible_seats(i, j, grid):\n",
    "    return seat_in_direction(i, j,  0,  1, grid) + \\\n",
    "           seat_in_direction(i, j,  1,  0, grid) + \\\n",
    "           seat_in_direction(i, j,  1,  1, grid) + \\\n",
    "           seat_in_direction(i, j,  1, -1, grid) + \\\n",
    "           seat_in_direction(i, j,  0, -1, grid) + \\\n",
    "           seat_in_direction(i, j, -1,  0, grid) + \\\n",
    "           seat_in_direction(i, j, -1,  1, grid) + \\\n",
    "           seat_in_direction(i, j, -1, -1, grid)"
   ]
  },
  {
   "cell_type": "code",
   "execution_count": 6,
   "metadata": {},
   "outputs": [
    {
     "name": "stdout",
     "output_type": "stream",
     "text": [
      "Part 2: 2002\n"
     ]
    }
   ],
   "source": [
    "current = [l.copy() for l in grid]\n",
    "previous = None\n",
    "while current != previous:\n",
    "    previous = [l.copy() for l in current]\n",
    "    for i in range(n_rows):\n",
    "        for j in range(n_cols):\n",
    "            nbs = nb_visible_seats(i, j, previous)\n",
    "            if nbs >= 5 and previous[i][j] == '#':\n",
    "                current[i][j] = 'L'\n",
    "            elif nbs == 0 and previous[i][j] == 'L':\n",
    "                current[i][j] = '#'\n",
    "\n",
    "n = 0\n",
    "for i in range(n_rows):\n",
    "    for j in range(n_cols):\n",
    "        n += current[i][j] == '#'\n",
    "            \n",
    "print(f'Part 2: {n}')"
   ]
  },
  {
   "cell_type": "code",
   "execution_count": null,
   "metadata": {},
   "outputs": [],
   "source": []
  }
 ],
 "metadata": {
  "kernelspec": {
   "display_name": "Python 3",
   "language": "python",
   "name": "python3"
  },
  "language_info": {
   "codemirror_mode": {
    "name": "ipython",
    "version": 3
   },
   "file_extension": ".py",
   "mimetype": "text/x-python",
   "name": "python",
   "nbconvert_exporter": "python",
   "pygments_lexer": "ipython3",
   "version": "3.8.5"
  }
 },
 "nbformat": 4,
 "nbformat_minor": 4
}
