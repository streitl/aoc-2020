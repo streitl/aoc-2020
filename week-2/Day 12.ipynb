{
 "cells": [
  {
   "cell_type": "code",
   "execution_count": 1,
   "metadata": {},
   "outputs": [],
   "source": [
    "import numpy as np"
   ]
  },
  {
   "cell_type": "code",
   "execution_count": 2,
   "metadata": {},
   "outputs": [],
   "source": [
    "with open('day-12-input.txt', 'r') as f:\n",
    "    lines = [l.rstrip() for l in f.readlines()]\n",
    "    instructions = [(l[0], int(l[1:])) for l in lines]"
   ]
  },
  {
   "cell_type": "markdown",
   "metadata": {},
   "source": [
    "# Part 1"
   ]
  },
  {
   "cell_type": "code",
   "execution_count": 3,
   "metadata": {},
   "outputs": [
    {
     "name": "stdout",
     "output_type": "stream",
     "text": [
      "Part 1: 1457\n"
     ]
    }
   ],
   "source": [
    "mapping = {0: 'E', 1: 'S', 2: 'W', 3: 'N',\n",
    "          'E': 0, 'S': 1, 'W': 2, 'N': 3}\n",
    "move = {'E': np.array([0, 1]), 'N': np.array([-1, 0]), 'W': np.array([0, -1]), 'S': np.array([1, 0])}\n",
    "\n",
    "d = 'E'\n",
    "pos = np.array([0, 0])\n",
    "\n",
    "for a, v in instructions:\n",
    "    if a in ['E', 'N', 'W', 'S']:\n",
    "        pos += move[a] * v\n",
    "    elif a == 'L':\n",
    "        n = v / 90\n",
    "        d = mapping[(mapping[d] - n) % 4]\n",
    "    elif a == 'R':\n",
    "        n = v / 90\n",
    "        d = mapping[(mapping[d] + n) % 4]\n",
    "    elif a == 'F':\n",
    "        pos += move[d] * v\n",
    "    else:\n",
    "        print('BAD')\n",
    "\n",
    "print(f'Part 1: {np.abs(pos).sum()}')"
   ]
  },
  {
   "cell_type": "markdown",
   "metadata": {},
   "source": [
    "# Part 2"
   ]
  },
  {
   "cell_type": "code",
   "execution_count": 4,
   "metadata": {},
   "outputs": [
    {
     "name": "stdout",
     "output_type": "stream",
     "text": [
      "Part 2: 106860\n"
     ]
    }
   ],
   "source": [
    "matrix = {0: np.array([[ 1, 0], [ 0, 1]]),\n",
    "          1: np.array([[ 0, 1], [-1, 0]]),\n",
    "          2: np.array([[-1, 0], [0, -1]]),\n",
    "          3: np.array([[0, -1], [ 1, 0]])}\n",
    "move = {'E': np.array([0, 1]), 'N': np.array([-1, 0]), 'W': np.array([0, -1]), 'S': np.array([1, 0])}\n",
    "\n",
    "d = 'E'\n",
    "pos = np.array([0, 0])\n",
    "way = np.array([-1, 10])\n",
    "\n",
    "for a, v in instructions:\n",
    "    if a in ['E', 'N', 'W', 'S']:\n",
    "        way += move[a] * v\n",
    "    elif a == 'L':\n",
    "        n = v / 90\n",
    "        way = way @ matrix[n % 4]\n",
    "    elif a == 'R':\n",
    "        n = v / 90\n",
    "        way = way @ matrix[(-n) % 4]\n",
    "    elif a == 'F':\n",
    "        pos += way * v\n",
    "    else:\n",
    "        print('BAD')\n",
    "    \n",
    "print(f'Part 2: {np.abs(pos).sum()}')"
   ]
  },
  {
   "cell_type": "code",
   "execution_count": null,
   "metadata": {},
   "outputs": [],
   "source": []
  }
 ],
 "metadata": {
  "kernelspec": {
   "display_name": "Python 3",
   "language": "python",
   "name": "python3"
  },
  "language_info": {
   "codemirror_mode": {
    "name": "ipython",
    "version": 3
   },
   "file_extension": ".py",
   "mimetype": "text/x-python",
   "name": "python",
   "nbconvert_exporter": "python",
   "pygments_lexer": "ipython3",
   "version": "3.8.5"
  }
 },
 "nbformat": 4,
 "nbformat_minor": 4
}
