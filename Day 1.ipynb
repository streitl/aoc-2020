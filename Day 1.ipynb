{
 "cells": [
  {
   "cell_type": "markdown",
   "metadata": {},
   "source": [
    "## Data loading"
   ]
  },
  {
   "cell_type": "code",
   "execution_count": 1,
   "metadata": {},
   "outputs": [],
   "source": [
    "with open('day-1-input.txt', 'r') as f:\n",
    "    numbers = [int(l.rstrip()) for l in f.readlines() if l != '\\n']\n",
    "\n",
    "numbers.sort()"
   ]
  },
  {
   "cell_type": "markdown",
   "metadata": {},
   "source": [
    "## Part 1"
   ]
  },
  {
   "cell_type": "code",
   "execution_count": 2,
   "metadata": {},
   "outputs": [
    {
     "name": "stdout",
     "output_type": "stream",
     "text": [
      "Part 1: 933 * 1087 = 1014171\n"
     ]
    }
   ],
   "source": [
    "li = 0\n",
    "ri = len(numbers) - 1\n",
    "\n",
    "while li < ri:\n",
    "    l = numbers[li]\n",
    "    r = numbers[ri]\n",
    "    \n",
    "    if l + r == 2020:\n",
    "        print(f'Part 1: {l} * {r} = {l * r}')\n",
    "        break        \n",
    "    \n",
    "    if l < 2020 - r:\n",
    "        li += 1\n",
    "    else:\n",
    "        ri += -1"
   ]
  },
  {
   "cell_type": "markdown",
   "metadata": {},
   "source": [
    "## Part 2"
   ]
  },
  {
   "cell_type": "code",
   "execution_count": 3,
   "metadata": {},
   "outputs": [
    {
     "name": "stdout",
     "output_type": "stream",
     "text": [
      "Part 2: 59 * 566 * 1395 = 46584630\n"
     ]
    }
   ],
   "source": [
    "for li, l in enumerate(numbers):\n",
    "    mi = li + 1\n",
    "    ri = len(numbers) - 1\n",
    "\n",
    "    while mi < ri:\n",
    "        m = numbers[mi]\n",
    "        r = numbers[ri]\n",
    "\n",
    "        if l + m + r == 2020:\n",
    "            print(f'Part 2: {l} * {m} * {r} = {l * m * r}')\n",
    "            break        \n",
    "\n",
    "        if m < 2020 - l - r:\n",
    "            mi += 1\n",
    "        else:\n",
    "            ri += -1"
   ]
  }
 ],
 "metadata": {
  "kernelspec": {
   "display_name": "Python 3",
   "language": "python",
   "name": "python3"
  },
  "language_info": {
   "codemirror_mode": {
    "name": "ipython",
    "version": 3
   },
   "file_extension": ".py",
   "mimetype": "text/x-python",
   "name": "python",
   "nbconvert_exporter": "python",
   "pygments_lexer": "ipython3",
   "version": "3.8.5"
  }
 },
 "nbformat": 4,
 "nbformat_minor": 4
}
