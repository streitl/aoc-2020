{
 "cells": [
  {
   "cell_type": "code",
   "execution_count": 1,
   "metadata": {},
   "outputs": [],
   "source": [
    "import numpy as np"
   ]
  },
  {
   "cell_type": "markdown",
   "metadata": {},
   "source": [
    "# Data loading"
   ]
  },
  {
   "cell_type": "code",
   "execution_count": 2,
   "metadata": {},
   "outputs": [
    {
     "data": {
      "text/plain": [
       "array([[False, False, False, ..., False, False, False],\n",
       "       [False, False, False, ..., False, False, False],\n",
       "       [False, False, False, ..., False, False, False],\n",
       "       ...,\n",
       "       [False, False,  True, ..., False, False, False],\n",
       "       [False, False,  True, ...,  True, False, False],\n",
       "       [ True, False, False, ..., False, False, False]])"
      ]
     },
     "execution_count": 2,
     "metadata": {},
     "output_type": "execute_result"
    }
   ],
   "source": [
    "with open('day-3-input.txt', 'r') as f:\n",
    "    trees = np.array([[c == '#' for c in l.rstrip()] for l in f.readlines() if l != '\\n'])\n",
    "\n",
    "trees"
   ]
  },
  {
   "cell_type": "markdown",
   "metadata": {},
   "source": [
    "# Part 1"
   ]
  },
  {
   "cell_type": "code",
   "execution_count": 3,
   "metadata": {},
   "outputs": [],
   "source": [
    "def slide(trees, slope=(3, 1)):\n",
    "    x, y = slope\n",
    "    height, width = trees.shape\n",
    "    \n",
    "    n_collisions = 0\n",
    "    \n",
    "    while y < height:\n",
    "        \n",
    "        if trees[y, x % width]:\n",
    "            n_collisions += 1\n",
    "        \n",
    "        x += slope[0]\n",
    "        y += slope[1]\n",
    "    \n",
    "    return n_collisions"
   ]
  },
  {
   "cell_type": "code",
   "execution_count": 4,
   "metadata": {},
   "outputs": [
    {
     "name": "stdout",
     "output_type": "stream",
     "text": [
      "Part 1: 220\n"
     ]
    }
   ],
   "source": [
    "print(f'Part 1: {slide(trees)}')"
   ]
  },
  {
   "cell_type": "markdown",
   "metadata": {},
   "source": [
    "# Part 2"
   ]
  },
  {
   "cell_type": "code",
   "execution_count": 5,
   "metadata": {},
   "outputs": [
    {
     "name": "stdout",
     "output_type": "stream",
     "text": [
      "Part 2: 2138320800\n"
     ]
    }
   ],
   "source": [
    "result = slide(trees, slope=(1, 1)) * \\\n",
    "         slide(trees, slope=(3, 1)) * \\\n",
    "         slide(trees, slope=(5, 1)) * \\\n",
    "         slide(trees, slope=(7, 1)) * \\\n",
    "         slide(trees, slope=(1, 2))\n",
    "\n",
    "print(f'Part 2: {result}')"
   ]
  },
  {
   "cell_type": "code",
   "execution_count": null,
   "metadata": {},
   "outputs": [],
   "source": []
  }
 ],
 "metadata": {
  "kernelspec": {
   "display_name": "Python 3",
   "language": "python",
   "name": "python3"
  },
  "language_info": {
   "codemirror_mode": {
    "name": "ipython",
    "version": 3
   },
   "file_extension": ".py",
   "mimetype": "text/x-python",
   "name": "python",
   "nbconvert_exporter": "python",
   "pygments_lexer": "ipython3",
   "version": "3.8.5"
  }
 },
 "nbformat": 4,
 "nbformat_minor": 4
}
