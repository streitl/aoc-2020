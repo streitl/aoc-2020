{
 "cells": [
  {
   "cell_type": "code",
   "execution_count": 1,
   "metadata": {},
   "outputs": [],
   "source": [
    "import pandas as pd"
   ]
  },
  {
   "cell_type": "code",
   "execution_count": 2,
   "metadata": {},
   "outputs": [],
   "source": [
    "with open('day-09-input.txt', 'r') as f:\n",
    "    lines = [l.rstrip() for l in f.readlines()]\n",
    "    numbers = [int(n) for n in lines]"
   ]
  },
  {
   "cell_type": "code",
   "execution_count": 3,
   "metadata": {},
   "outputs": [],
   "source": [
    "def can_be_summed(numbers, n):\n",
    "    numbers.sort()\n",
    "    \n",
    "    li = 0\n",
    "    ri = len(numbers) - 1\n",
    "\n",
    "    while li < ri:\n",
    "        l = numbers[li]\n",
    "        r = numbers[ri]\n",
    "\n",
    "        if l + r == n:\n",
    "            return True\n",
    "\n",
    "        if l < n - r:\n",
    "            li += 1\n",
    "        else:\n",
    "            ri += -1\n",
    "    \n",
    "    return False"
   ]
  },
  {
   "cell_type": "markdown",
   "metadata": {},
   "source": [
    "# Part 1"
   ]
  },
  {
   "cell_type": "code",
   "execution_count": 4,
   "metadata": {},
   "outputs": [
    {
     "name": "stdout",
     "output_type": "stream",
     "text": [
      "Part 1: 22477624 (at position 528)\n"
     ]
    }
   ],
   "source": [
    "for i, n in enumerate(numbers):\n",
    "    if i < 25:\n",
    "        continue\n",
    "    if not can_be_summed(numbers[i - 25: i], n):\n",
    "        print(f'Part 1: {n} (at position {i})')\n",
    "        break"
   ]
  },
  {
   "cell_type": "markdown",
   "metadata": {},
   "source": [
    "# Part 2"
   ]
  },
  {
   "cell_type": "code",
   "execution_count": 5,
   "metadata": {},
   "outputs": [
    {
     "name": "stdout",
     "output_type": "stream",
     "text": [
      "Part 2: 2980044\n"
     ]
    }
   ],
   "source": [
    "series = pd.Series(numbers)\n",
    "for i in range(528):\n",
    "    for j in range(i+1, 528):\n",
    "        sub = series.loc[i:j]\n",
    "        if sub.sum() == 22477624:\n",
    "            print(f'Part 2: {sub.min() + sub.max()}')"
   ]
  },
  {
   "cell_type": "code",
   "execution_count": null,
   "metadata": {},
   "outputs": [],
   "source": []
  }
 ],
 "metadata": {
  "kernelspec": {
   "display_name": "Python 3",
   "language": "python",
   "name": "python3"
  },
  "language_info": {
   "codemirror_mode": {
    "name": "ipython",
    "version": 3
   },
   "file_extension": ".py",
   "mimetype": "text/x-python",
   "name": "python",
   "nbconvert_exporter": "python",
   "pygments_lexer": "ipython3",
   "version": "3.8.5"
  }
 },
 "nbformat": 4,
 "nbformat_minor": 4
}
