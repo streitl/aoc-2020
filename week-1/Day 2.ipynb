{
 "cells": [
  {
   "cell_type": "code",
   "execution_count": 1,
   "metadata": {},
   "outputs": [],
   "source": [
    "import re\n",
    "import pandas as pd"
   ]
  },
  {
   "cell_type": "markdown",
   "metadata": {},
   "source": [
    "## Data loading"
   ]
  },
  {
   "cell_type": "code",
   "execution_count": 2,
   "metadata": {},
   "outputs": [],
   "source": [
    "with open('day-2-input.txt', 'r') as f:\n",
    "    lines = [l.rstrip() for l in f.readlines() if l != '\\n']"
   ]
  },
  {
   "cell_type": "markdown",
   "metadata": {},
   "source": [
    "## Preprocessing"
   ]
  },
  {
   "cell_type": "code",
   "execution_count": 3,
   "metadata": {},
   "outputs": [],
   "source": [
    "class Entry():\n",
    "    regex = '([0-9]{1,2})-([0-9]{1,2}) ([a-z]): ([a-z]+)'\n",
    "\n",
    "    def __init__(self, line):\n",
    "        match = re.search(self.regex, line)\n",
    "        if not match:\n",
    "            print('WEIRD', i, entry)\n",
    "            \n",
    "        self.l = int(match.group(1))\n",
    "        self.r = int(match.group(2))\n",
    "        self.c = match.group(3)\n",
    "        self.w = match.group(4)\n",
    "    \n",
    "    def is_valid_1(self):\n",
    "        counts = pd.Series([l for l in self.w]).value_counts()\n",
    "        return self.c in counts and self.l <= counts[self.c] <= self.r\n",
    "    \n",
    "    def is_valid_2(self):\n",
    "        \n",
    "        return self.l < len(self.w) and self.r < len(self.w) and (self.w[self.l] == self.c) ^ (self.w[self.r] == self.c)\n",
    "\n",
    "entries = [Entry(line) for line in lines]"
   ]
  },
  {
   "cell_type": "markdown",
   "metadata": {},
   "source": [
    "## Part 1"
   ]
  },
  {
   "cell_type": "code",
   "execution_count": 4,
   "metadata": {},
   "outputs": [
    {
     "name": "stdout",
     "output_type": "stream",
     "text": [
      "Part 1: 410\n"
     ]
    }
   ],
   "source": [
    "nb_valid = pd.Series([e.is_valid_1() for e in entries]).astype(int).sum()\n",
    "\n",
    "print(f'Part 1: {nb_valid}')"
   ]
  },
  {
   "cell_type": "markdown",
   "metadata": {},
   "source": [
    "## Part 2"
   ]
  },
  {
   "cell_type": "code",
   "execution_count": 5,
   "metadata": {},
   "outputs": [
    {
     "name": "stdout",
     "output_type": "stream",
     "text": [
      "Part 2: 243\n"
     ]
    }
   ],
   "source": [
    "nb_valid = pd.Series([e.is_valid_2() for e in entries]).astype(int).sum()\n",
    "\n",
    "print(f'Part 2: {nb_valid}')"
   ]
  },
  {
   "cell_type": "code",
   "execution_count": null,
   "metadata": {},
   "outputs": [],
   "source": []
  }
 ],
 "metadata": {
  "kernelspec": {
   "display_name": "Python 3",
   "language": "python",
   "name": "python3"
  },
  "language_info": {
   "codemirror_mode": {
    "name": "ipython",
    "version": 3
   },
   "file_extension": ".py",
   "mimetype": "text/x-python",
   "name": "python",
   "nbconvert_exporter": "python",
   "pygments_lexer": "ipython3",
   "version": "3.8.5"
  }
 },
 "nbformat": 4,
 "nbformat_minor": 4
}
